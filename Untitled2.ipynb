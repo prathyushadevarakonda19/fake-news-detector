{
  "nbformat": 4,
  "nbformat_minor": 0,
  "metadata": {
    "colab": {
      "private_outputs": true,
      "provenance": []
    },
    "kernelspec": {
      "name": "python3",
      "display_name": "Python 3"
    },
    "language_info": {
      "name": "python"
    }
  },
  "cells": [
    {
      "cell_type": "code",
      "execution_count": null,
      "metadata": {
        "id": "ghxdAGfsjSvq"
      },
      "outputs": [],
      "source": [
        "# Install libraries if not already installed\n",
        "!pip install pandas numpy matplotlib seaborn scikit-learn\n"
      ]
    },
    {
      "cell_type": "code",
      "source": [
        "import pandas as pd\n",
        "import zipfile\n",
        "import os\n",
        "\n",
        "# Define the path to the zip file and the extraction directory\n",
        "zip_path = '/content/archive (2).zip'\n",
        "extract_path = '/content/'\n",
        "\n",
        "# Ensure the extraction directory exists\n",
        "os.makedirs(extract_path, exist_ok=True)\n",
        "\n",
        "# Extract the files from the zip archive\n",
        "try:\n",
        "    with zipfile.ZipFile(zip_path, 'r') as zip_ref:\n",
        "        zip_ref.extractall(extract_path)\n",
        "except zipfile.BadZipFile:\n",
        "    print(f\"Error: The file at {zip_path} is not a valid zip file or is corrupted.\")\n",
        "    print(\"Please re-upload the zip file and try again.\")\n",
        "    # Exit or handle the error as needed, e.g., by not proceeding with loading data\n",
        "except FileNotFoundError:\n",
        "    print(f\"Error: The file at {zip_path} was not found.\")\n",
        "    print(\"Please ensure the file is uploaded to the correct location.\")\n",
        "    # Exit or handle the error as needed\n",
        "else:\n",
        "    # Load the datasets from the extracted files\n",
        "    fake = pd.read_csv(os.path.join(extract_path, 'Fake.csv'))\n",
        "    true = pd.read_csv(os.path.join(extract_path, 'True.csv'))\n",
        "\n",
        "    # Add labels: 0 for Fake, 1 for True\n",
        "    fake['label'] = 0\n",
        "    true['label'] = 1\n",
        "\n",
        "    # Combine both datasets\n",
        "    df = pd.concat([fake, true], ignore_index=True)\n",
        "\n",
        "    # Drop irrelevant columns\n",
        "    df = df.drop(['subject', 'date'], axis=1)\n",
        "\n",
        "    # Shuffle the dataset\n",
        "    df = df.sample(frac=1, random_state=42).reset_index(drop=True)\n",
        "\n",
        "    # Check structure\n",
        "    print(\"Dataset shape:\", df.shape)\n",
        "    print(df.head())"
      ],
      "metadata": {
        "id": "TXWXvBpXjxm-"
      },
      "execution_count": null,
      "outputs": []
    },
    {
      "cell_type": "code",
      "metadata": {
        "id": "08202455"
      },
      "source": [
        "import zipfile\n",
        "\n",
        "with zipfile.ZipFile('/content/archive (2).zip', 'r') as zip_ref:\n",
        "    print(zip_ref.namelist())"
      ],
      "execution_count": null,
      "outputs": []
    },
    {
      "cell_type": "code",
      "source": [
        "import string\n",
        "import re\n",
        "\n",
        "# Function to clean text\n",
        "def clean_text(text):\n",
        "    text = text.lower()  # lowercase\n",
        "    text = re.sub(r'\\[.*?\\]', '', text)  # remove text in brackets\n",
        "    text = re.sub(r'https?://\\S+|www\\.\\S+', '', text)  # remove links\n",
        "    text = re.sub(r'<.*?>+', '', text)  # remove html tags\n",
        "    text = re.sub(f\"[{re.escape(string.punctuation)}]\", \"\", text)  # remove punctuation\n",
        "    text = re.sub(r'\\n', ' ', text)  # remove newlines\n",
        "    text = re.sub(r'\\w*\\d\\w*', '', text)  # remove words with numbers\n",
        "    return text\n",
        "\n",
        "# Apply cleaning to the 'text' column\n",
        "df['text'] = df['text'].apply(clean_text)\n",
        "\n",
        "# View cleaned sample\n",
        "df['text'].head()\n"
      ],
      "metadata": {
        "id": "Cp1neWhjkdgX"
      },
      "execution_count": null,
      "outputs": []
    },
    {
      "cell_type": "code",
      "source": [
        "from sklearn.feature_extraction.text import TfidfVectorizer\n",
        "\n",
        "# Initialize TF-IDF Vectorizer\n",
        "vectorizer = TfidfVectorizer(stop_words='english', max_df=0.7)\n",
        "\n",
        "# Fit and transform the text data\n",
        "X = vectorizer.fit_transform(df['text'])\n",
        "\n",
        "# Target variable\n",
        "y = df['label']\n"
      ],
      "metadata": {
        "id": "5NL5Lo0akxLc"
      },
      "execution_count": null,
      "outputs": []
    },
    {
      "cell_type": "code",
      "source": [
        "from sklearn.model_selection import train_test_split\n",
        "\n",
        "# Split the data into training and testing sets (80/20 split)\n",
        "X_train, X_test, y_train, y_test = train_test_split(X, y, test_size=0.2, random_state=42)\n"
      ],
      "metadata": {
        "id": "8pZZYBKkk6b3"
      },
      "execution_count": null,
      "outputs": []
    },
    {
      "cell_type": "code",
      "source": [
        "from sklearn.linear_model import LogisticRegression\n",
        "from sklearn.metrics import accuracy_score, precision_score, recall_score, f1_score, confusion_matrix\n",
        "\n",
        "# Initialize and train the model\n",
        "lr_model = LogisticRegression(max_iter=1000)\n",
        "lr_model.fit(X_train, y_train)\n",
        "\n",
        "# Predict\n",
        "y_pred_lr = lr_model.predict(X_test)\n",
        "\n",
        "# Evaluation\n",
        "print(\"🔷 Logistic Regression:\")\n",
        "print(\"Accuracy:\", accuracy_score(y_test, y_pred_lr))\n",
        "print(\"Precision:\", precision_score(y_test, y_pred_lr))\n",
        "print(\"Recall:\", recall_score(y_test, y_pred_lr))\n",
        "print(\"F1 Score:\", f1_score(y_test, y_pred_lr))\n"
      ],
      "metadata": {
        "id": "tv5KKQH3lCBd"
      },
      "execution_count": null,
      "outputs": []
    },
    {
      "cell_type": "code",
      "source": [
        "from sklearn.naive_bayes import MultinomialNB\n",
        "\n",
        "# Initialize and train\n",
        "nb_model = MultinomialNB()\n",
        "nb_model.fit(X_train, y_train)\n",
        "\n",
        "# Predict\n",
        "y_pred_nb = nb_model.predict(X_test)\n",
        "\n",
        "# Evaluation\n",
        "print(\"\\n🔷 Naive Bayes:\")\n",
        "print(\"Accuracy:\", accuracy_score(y_test, y_pred_nb))\n",
        "print(\"Precision:\", precision_score(y_test, y_pred_nb))\n",
        "print(\"Recall:\", recall_score(y_test, y_pred_nb))\n",
        "print(\"F1 Score:\", f1_score(y_test, y_pred_nb))\n"
      ],
      "metadata": {
        "id": "_CZv228WlHAV"
      },
      "execution_count": null,
      "outputs": []
    },
    {
      "cell_type": "code",
      "source": [
        "import seaborn as sns\n",
        "import matplotlib.pyplot as plt\n",
        "\n",
        "# Plot Confusion Matrix for Naive Bayes\n",
        "cm = confusion_matrix(y_test, y_pred_nb)\n",
        "sns.heatmap(cm, annot=True, fmt='d', cmap='Blues')\n",
        "plt.title('Naive Bayes - Confusion Matrix')\n",
        "plt.xlabel('Predicted')\n",
        "plt.ylabel('Actual')\n",
        "plt.show()\n"
      ],
      "metadata": {
        "id": "R1uwb2oflP88"
      },
      "execution_count": null,
      "outputs": []
    },
    {
      "cell_type": "code",
      "metadata": {
        "id": "27ea7ee7"
      },
      "source": [
        "!ls /content/"
      ],
      "execution_count": null,
      "outputs": []
    },
    {
      "cell_type": "code",
      "source": [
        "import numpy as np\n",
        "\n",
        "# Get feature names from TF-IDF vectorizer\n",
        "feature_names = vectorizer.get_feature_names_out()\n",
        "\n",
        "# Get the coefficients from the Logistic Regression model\n",
        "coefficients = lr_model.coef_[0]\n",
        "\n",
        "# Create a DataFrame with words and their coefficients\n",
        "coef_df = pd.DataFrame({\n",
        "    'word': feature_names,\n",
        "    'coefficient': coefficients\n",
        "})\n"
      ],
      "metadata": {
        "id": "G5xJtA0jlaNL"
      },
      "execution_count": null,
      "outputs": []
    },
    {
      "cell_type": "code",
      "source": [
        "# Top 10 words for predicting FAKE news (negative coefficients)\n",
        "top_fake = coef_df.sort_values(by='coefficient').head(10)\n",
        "\n",
        "# Top 10 words for predicting REAL news (positive coefficients)\n",
        "top_real = coef_df.sort_values(by='coefficient', ascending=False).head(10)\n",
        "\n",
        "print(\"\\n🔴 Top words predicting FAKE news:\")\n",
        "print(top_fake)\n",
        "\n",
        "print(\"\\n🟢 Top words predicting REAL news:\")\n",
        "print(top_real)\n"
      ],
      "metadata": {
        "id": "MK-WI3L5lh1G"
      },
      "execution_count": null,
      "outputs": []
    },
    {
      "cell_type": "code",
      "source": [],
      "metadata": {
        "id": "aPHWb33Ulm8z"
      },
      "execution_count": null,
      "outputs": []
    },
    {
      "cell_type": "code",
      "source": [
        "import matplotlib.pyplot as plt\n",
        "\n",
        "# Fake\n",
        "plt.figure(figsize=(10,5))\n",
        "plt.barh(top_fake['word'], top_fake['coefficient'], color='red')\n",
        "plt.title('Top 10 Words Indicative of Fake News')\n",
        "plt.xlabel('Coefficient')\n",
        "plt.gca().invert_yaxis()\n",
        "plt.show()\n",
        "\n",
        "# Real\n",
        "plt.figure(figsize=(10,5))\n",
        "plt.barh(top_real['word'], top_real['coefficient'], color='green')\n",
        "plt.title('Top 10 Words Indicative of Real News')\n",
        "plt.xlabel('Coefficient')\n",
        "plt.gca().invert_yaxis()\n",
        "plt.show()\n"
      ],
      "metadata": {
        "id": "xboOrtCClylI"
      },
      "execution_count": null,
      "outputs": []
    }
  ]
}