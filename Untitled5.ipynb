{
  "nbformat": 4,
  "nbformat_minor": 0,
  "metadata": {
    "colab": {
      "private_outputs": true,
      "provenance": [],
      "authorship_tag": "ABX9TyNNBowbx94LDF02jCIoks3U",
      "include_colab_link": true
    },
    "kernelspec": {
      "name": "python3",
      "display_name": "Python 3"
    },
    "language_info": {
      "name": "python"
    }
  },
  "cells": [
    {
      "cell_type": "markdown",
      "metadata": {
        "id": "view-in-github",
        "colab_type": "text"
      },
      "source": [
        "<a href=\"https://colab.research.google.com/github/prathyushadevarakonda19/fake-news-detector/blob/main/Untitled5.ipynb\" target=\"_parent\"><img src=\"https://colab.research.google.com/assets/colab-badge.svg\" alt=\"Open In Colab\"/></a>"
      ]
    },
    {
      "cell_type": "code",
      "execution_count": null,
      "metadata": {
        "id": "tsEqa4e1soix"
      },
      "outputs": [],
      "source": [
        "pip install transformers\n"
      ]
    },
    {
      "cell_type": "code",
      "source": [
        "import pandas as pd\n",
        "from transformers import pipeline\n"
      ],
      "metadata": {
        "id": "1cuhdM24sw5L"
      },
      "execution_count": null,
      "outputs": []
    },
    {
      "cell_type": "code",
      "source": [
        "comments = [\n",
        "    \"I love this product!\",\n",
        "    \"This is so bad.\",\n",
        "    \"Not worth the price.\",\n",
        "    \"Amazing quality and fast delivery.\",\n",
        "    \"I’m not unhappy with it.\",\n",
        "    \"Worst experience ever.\",\n",
        "    \"Pretty decent, not bad at all!\",\n",
        "    \"Absolutely loved it!\"\n",
        "]\n",
        "\n",
        "df = pd.DataFrame(comments, columns=[\"Comment\"])\n"
      ],
      "metadata": {
        "id": "RQGpB-BrtCuP"
      },
      "execution_count": null,
      "outputs": []
    },
    {
      "cell_type": "code",
      "source": [
        "sentiment_model = pipeline(\"sentiment-analysis\")\n"
      ],
      "metadata": {
        "id": "iA59u6vPtS77"
      },
      "execution_count": null,
      "outputs": []
    },
    {
      "cell_type": "code",
      "source": [
        "def get_sentiment(text):\n",
        "    result = sentiment_model(text)[0]   # Get first item in list\n",
        "    return result['label'], round(result['score'], 2)\n",
        "\n",
        "df[['Sentiment', 'Confidence']] = df['Comment'].apply(lambda x: pd.Series(get_sentiment(x)))\n"
      ],
      "metadata": {
        "id": "MUJAOfgwtc_n"
      },
      "execution_count": null,
      "outputs": []
    },
    {
      "cell_type": "code",
      "source": [
        "print(df)\n"
      ],
      "metadata": {
        "id": "03-IfP07tkpH"
      },
      "execution_count": null,
      "outputs": []
    }
  ]
}